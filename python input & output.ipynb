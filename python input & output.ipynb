{
 "cells": [
  {
   "cell_type": "code",
   "execution_count": 1,
   "metadata": {},
   "outputs": [],
   "source": [
    "#its a common task in programming to take input from the user, and display data on our screen.\n",
    "#python provides numerious built-in function hat allow you to output data and take input from user.\n"
   ]
  },
  {
   "cell_type": "code",
   "execution_count": 2,
   "metadata": {},
   "outputs": [
    {
     "name": "stdout",
     "output_type": "stream",
     "text": [
      "show out put on the screen\n"
     ]
    }
   ],
   "source": [
    "#python print()\n",
    "#we use print() function to display data th understand output device (screen)\n",
    "print(\"show out put on the screen\")\n",
    "# the print() function prints the content inside the parenthesis()."
   ]
  },
  {
   "cell_type": "code",
   "execution_count": 4,
   "metadata": {},
   "outputs": [
    {
     "name": "stdout",
     "output_type": "stream",
     "text": [
      "hiii 89\n"
     ]
    }
   ],
   "source": [
    "#print valiables\n",
    "a = 89\n",
    "b = \"hiii\"\n",
    "print(b,a) \n",
    "#to print more than one object at a time, we seperate them by commas.notice that a space was added between these two variables\n",
    "#by defult"
   ]
  },
  {
   "cell_type": "code",
   "execution_count": 6,
   "metadata": {},
   "outputs": [
    {
     "name": "stdout",
     "output_type": "stream",
     "text": [
      "name apekhsarai\n",
      "age 20\n"
     ]
    }
   ],
   "source": [
    "#eg.1 print()\n",
    "name = \"apekhsarai\"\n",
    "age = 20\n",
    "print(\"name\",name)\n",
    "print(\"age\",age)\n",
    "#name and age are printed in different lines. b'cause the print () function adds line break charecter \\n at the end by defult."
   ]
  },
  {
   "cell_type": "code",
   "execution_count": 3,
   "metadata": {},
   "outputs": [
    {
     "name": "stdout",
     "output_type": "stream",
     "text": [
      "first line \n",
      "\n",
      "\n",
      "second line\n"
     ]
    }
   ],
   "source": [
    "#eg.2 print()\n",
    "#the use of newline charecter '\\n'.the charecter signifies the end of a line of text and the stsrt new line.\n",
    "print(\"first line \\n\\n\")\n",
    "print(\"second line\")\n",
    "      #notice the use of the \\n charecter in the first print() function.\n"
   ]
  },
  {
   "cell_type": "code",
   "execution_count": 5,
   "metadata": {},
   "outputs": [
    {
     "name": "stdout",
     "output_type": "stream",
     "text": [
      "inter name apeksha\n",
      "hi apeksha\n"
     ]
    }
   ],
   "source": [
    "#take input from the user\n",
    "#to take input from the user and store it in a variable , we use input() function.\n",
    "name = input(\"inter name \")\n",
    "print(\"hi\" , name)\n",
    "#here , the program display enter 'name' when you run the program.then you can enter the string which is stored in variable\n",
    "#name. i have stored apeksha  string in variable name\n",
    "\n",
    "\n"
   ]
  },
  {
   "cell_type": "code",
   "execution_count": 11,
   "metadata": {},
   "outputs": [
    {
     "name": "stdout",
     "output_type": "stream",
     "text": [
      "enter sometiong love\n",
      "love\n"
     ]
    }
   ],
   "source": [
    "#input() function return string\n",
    "# the input function always return a string .for eg\n",
    "a = input(\"enter sometiong \")\n",
    "print(a) "
   ]
  },
  {
   "cell_type": "code",
   "execution_count": null,
   "metadata": {},
   "outputs": [],
   "source": []
  }
 ],
 "metadata": {
  "kernelspec": {
   "display_name": "Python 3",
   "language": "python",
   "name": "python3"
  },
  "language_info": {
   "codemirror_mode": {
    "name": "ipython",
    "version": 3
   },
   "file_extension": ".py",
   "mimetype": "text/x-python",
   "name": "python",
   "nbconvert_exporter": "python",
   "pygments_lexer": "ipython3",
   "version": "3.8.5"
  }
 },
 "nbformat": 4,
 "nbformat_minor": 4
}
