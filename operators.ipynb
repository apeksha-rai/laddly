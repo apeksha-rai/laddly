{
 "cells": [
  {
   "cell_type": "code",
   "execution_count": 1,
   "metadata": {},
   "outputs": [
    {
     "name": "stdout",
     "output_type": "stream",
     "text": [
      "6\n"
     ]
    }
   ],
   "source": [
    "#operator which allow to perform mathematical and logical computations.\n",
    "#operators is a special symbol that carries out arthmetic or logical computation.like,addition ,subtraction,multipicatin,divi\n",
    "a= 1\n",
    "b = 5\n",
    "print(a+b)"
   ]
  },
  {
   "cell_type": "code",
   "execution_count": 3,
   "metadata": {},
   "outputs": [
    {
     "name": "stdout",
     "output_type": "stream",
     "text": [
      "18\n"
     ]
    }
   ],
   "source": [
    "x = 4\n",
    "y =6\n",
    "z = 8\n",
    "result = (x+y+z)\n",
    "print(result)"
   ]
  },
  {
   "cell_type": "code",
   "execution_count": 3,
   "metadata": {},
   "outputs": [],
   "source": [
    "#concatenate two string\n",
    "first_name = 'apeksha'\n",
    "second_name = 'rai'\n",
    "name = first_name + ' ' + second_name\n",
    "print = (\"name :\" ,name)"
   ]
  },
  {
   "cell_type": "code",
   "execution_count": 7,
   "metadata": {},
   "outputs": [
    {
     "data": {
      "text/plain": [
       "21"
      ]
     },
     "execution_count": 7,
     "metadata": {},
     "output_type": "execute_result"
    }
   ],
   "source": [
    "a = 7\n",
    "b = 3\n",
    "h = a*b\n",
    "h"
   ]
  },
  {
   "cell_type": "code",
   "execution_count": 8,
   "metadata": {},
   "outputs": [
    {
     "ename": "TypeError",
     "evalue": "can't multiply sequence by non-int of type 'str'",
     "output_type": "error",
     "traceback": [
      "\u001b[1;31m---------------------------------------------------------------------------\u001b[0m",
      "\u001b[1;31mTypeError\u001b[0m                                 Traceback (most recent call last)",
      "\u001b[1;32m<ipython-input-8-d46b7d5478f1>\u001b[0m in \u001b[0;36m<module>\u001b[1;34m\u001b[0m\n\u001b[0;32m      1\u001b[0m \u001b[1;31m#we can not multiply two strings, you will get error\u001b[0m\u001b[1;33m\u001b[0m\u001b[1;33m\u001b[0m\u001b[1;33m\u001b[0m\u001b[0m\n\u001b[0;32m      2\u001b[0m \u001b[0ma\u001b[0m \u001b[1;33m=\u001b[0m\u001b[1;34m'hi'\u001b[0m\u001b[1;33m\u001b[0m\u001b[1;33m\u001b[0m\u001b[0m\n\u001b[1;32m----> 3\u001b[1;33m \u001b[0mb\u001b[0m \u001b[1;33m=\u001b[0m \u001b[0ma\u001b[0m\u001b[1;33m*\u001b[0m\u001b[1;34m'7'\u001b[0m\u001b[1;33m\u001b[0m\u001b[1;33m\u001b[0m\u001b[0m\n\u001b[0m\u001b[0;32m      4\u001b[0m \u001b[0mb\u001b[0m\u001b[1;33m\u001b[0m\u001b[1;33m\u001b[0m\u001b[0m\n",
      "\u001b[1;31mTypeError\u001b[0m: can't multiply sequence by non-int of type 'str'"
     ]
    }
   ],
   "source": [
    "#we can not multiply two strings, you will get error\n",
    "a ='hi'\n",
    "b = a*'7'\n",
    "b"
   ]
  },
  {
   "cell_type": "code",
   "execution_count": 11,
   "metadata": {},
   "outputs": [
    {
     "data": {
      "text/plain": [
       "3.0"
      ]
     },
     "execution_count": 11,
     "metadata": {},
     "output_type": "execute_result"
    }
   ],
   "source": [
    "#/ and //\n",
    "# it is used to divide\n",
    "a = 15\n",
    "b = 5\n",
    "v = a/b\n",
    "v\n"
   ]
  },
  {
   "cell_type": "code",
   "execution_count": 12,
   "metadata": {},
   "outputs": [
    {
     "data": {
      "text/plain": [
       "3"
      ]
     },
     "execution_count": 12,
     "metadata": {},
     "output_type": "execute_result"
    }
   ],
   "source": [
    "#for the quotient insted ,use// operotor.\n",
    "a = 20\n",
    "b = 6\n",
    "c = a//b\n",
    "c"
   ]
  },
  {
   "cell_type": "code",
   "execution_count": 13,
   "metadata": {},
   "outputs": [
    {
     "data": {
      "text/plain": [
       "2"
      ]
     },
     "execution_count": 13,
     "metadata": {},
     "output_type": "execute_result"
    }
   ],
   "source": [
    "# % . the modulus operator % gives the remainder of division.\n",
    "a = 12%5\n",
    "a"
   ]
  },
  {
   "cell_type": "code",
   "execution_count": 14,
   "metadata": {},
   "outputs": [
    {
     "data": {
      "text/plain": [
       "8"
      ]
     },
     "execution_count": 14,
     "metadata": {},
     "output_type": "execute_result"
    }
   ],
   "source": [
    "# ** operator\n",
    "#the exponent operator ** raises the left operator to the power of the right.\n",
    "n = 2**3\n",
    "n"
   ]
  },
  {
   "cell_type": "code",
   "execution_count": 17,
   "metadata": {},
   "outputs": [
    {
     "data": {
      "text/plain": [
       "19.731076999710165"
      ]
     },
     "execution_count": 17,
     "metadata": {},
     "output_type": "execute_result"
    }
   ],
   "source": [
    "base = 3.567\n",
    "power = 2.345\n",
    "result = base**power\n",
    "result"
   ]
  },
  {
   "cell_type": "code",
   "execution_count": null,
   "metadata": {},
   "outputs": [],
   "source": [
    "Bitwise operators\n",
    "Bitwise operators act on operands as if they were strings of binary digits. They operate bit by bit, hence the name.\n",
    "\n",
    "For example, 2 is 10 in binary and 7 is 111.\n",
    "\n",
    "In the table below: Let x = 10 (0000 1010 in binary) and y = 4 (0000 0100 in binary)\n",
    "\n",
    "Operator\tMeaning\tExample\n",
    "&\tBitwise AND\tx & y = 0 (0000 0000)\n",
    "|\tBitwise OR\tx | y = 14 (0000 1110)\n",
    "~\tBitwise NOT\t~x = -11 (1111 0101)\n",
    "^\tBitwise XOR\tx ^ y = 14 (0000 1110)\n",
    ">>\tBitwise right shift\tx >> 2 = 2 (0000 0010)\n",
    "<<\tBitwise left shift\tx << 2 = 40 (0010 1000)\n",
    "<< 5\n",
    "Special operators\n",
    "Python language offers some special types of operators like the identity operator or the membership operator. They are described below with examples.\n",
    "\n",
    "Identity operators\n",
    "is and is not are the identity operators in Python. They are used to check if two values (or variables) are located on the same part of the memory. Two variables that are equal does not imply that they are identical.\n",
    "\n",
    "Operator\tMeaning\tExample\n",
    "is\tTrue if the operands are identical (refer to the same object)\tx is True\n",
    "is not\tTrue if the operands are not identical (do not refer to the same object)\tx is not True\n",
    "Example 4: Identity operators in Python\n",
    "x1 = 5\n",
    "y1 = 5\n",
    "x2 = 'Hello'\n",
    "y2 = 'Hello'\n",
    "x3 = [1,2,3]\n",
    "y3 = [1,2,3]\n",
    "\n",
    "# Output: False\n",
    "print(x1 is not y1)\n",
    "\n",
    "# Output: True\n",
    "print(x2 is y2)\n",
    "\n",
    "# Output: False\n",
    "print(x3 is y3)\n",
    "Output\n",
    "\n",
    "False\n",
    "True\n",
    "False\n",
    "Here, we see that x1 and y1 are integers of the same values, so they are equal as well as identical. Same is the case with x2 and y2 (strings).\n",
    "\n",
    "But x3 and y3 are lists. They are equal but not identical. It is because the interpreter locates them separately in memory although they are equal.\n",
    "\n",
    "Membership operators\n",
    "in and not in are the membership operators in Python. They are used to test whether a value or variable is found in a sequence (string, list, tuple, set and dictionary).\n",
    "\n",
    "In a dictionary we can only test for presence of key, not the value.\n",
    "\n",
    "Operator\tMeaning\tExample\n",
    "in\tTrue if value/variable is found in the sequence\t5 in x\n",
    "not in\tTrue if value/variable is not found in the sequence\t5 not in x\n",
    "Example #5: Membership operators in Python\n",
    "x = 'Hello world'\n",
    "y = {1:'a',2:'b'}\n",
    "\n",
    "# Output: True\n",
    "print('H' in x)\n",
    "\n",
    "# Output: True\n",
    "print('hello' not in x)\n",
    "\n",
    "# Output: True\n",
    "print(1 in y)\n",
    "\n",
    "# Output: False\n",
    "print('a' in y)\n",
    "Output\n",
    "\n",
    "True\n",
    "True\n",
    "True\n",
    "False\n",
    "Here, 'H' is in x but 'hello' is not present in x (remember, Python is case sensitive). Similarly, 1 is key and 'a' is the value in dictionary y. Hence, 'a' in y returns False.\n",
    "\n",
    "Previous Tutorial:\n",
    "Python I/O and Import\n",
    "Next Tutorial:\n",
    "Python Namespace\n",
    "Share on:\n",
    " \n",
    "Was this article helpful?\n",
    "\n",
    "Related Tutorials\n",
    "Python Tutorial\n",
    "\n",
    "Precedence and Associativity of Operators in Python\n",
    "\n",
    "Python Tutorial\n",
    "\n",
    "Python Operator Overloading\n",
    "\n",
    "Python Library\n",
    "\n",
    "Python any()\n",
    "\n",
    "Python Library\n",
    "\n",
    "Python all()\n",
    "\n",
    "\n",
    "Get Pytho"
   ]
  },
  {
   "cell_type": "code",
   "execution_count": null,
   "metadata": {},
   "outputs": [],
   "source": [
    "Assignment operators\n",
    "Assignment operators are used in Python to assign values to variables.\n",
    "\n",
    "a = 5 is a simple assignment operator that assigns the value 5 on the right to the variable a on the left.\n",
    "\n",
    "There are various compound operators in Python like a += 5 that adds to the variable and later assigns the same. It is equivalent to a = a + 5.\n",
    "\n",
    "Operator\tExample\tEquivalent to\n",
    "=\tx = 5\tx = 5\n",
    "+=\tx += 5\tx = x + 5\n",
    "-=\tx -= 5\tx = x - 5\n",
    "*=\tx *= 5\tx = x * 5\n",
    "/=\tx /= 5\tx = x / 5\n",
    "%=\tx %= 5\tx = x % 5\n",
    "//=\tx //= 5\tx = x // 5\n",
    "**=\tx **= 5\tx = x ** 5\n",
    "&=\tx &= 5\tx = x & 5\n",
    "|=\tx |= 5\tx = x | 5\n",
    "^=\tx ^= 5\tx = x ^ 5\n",
    ">>=\tx >>= 5\tx = x >> 5\n",
    "<<=\tx <<= 5\tx = x << 5"
   ]
  },
  {
   "cell_type": "code",
   "execution_count": null,
   "metadata": {},
   "outputs": [],
   "source": [
    "Special operators\n",
    "Python language offers some special types of operators like the identity operator or the membership operator. They are described below with examples.\n",
    "\n",
    "Identity operators\n",
    "is and is not are the identity operators in Python. They are used to check if two values (or variables) are located on the same part of the memory. Two variables that are equal does not imply that they are identical.\n",
    "\n",
    "Operator\tMeaning\tExample\n",
    "is\tTrue if the operands are identical (refer to the same object)\tx is True\n",
    "is not\tTrue if the operands are not identical (do not refer to the same object)\tx is not True"
   ]
  }
 ],
 "metadata": {
  "kernelspec": {
   "display_name": "Python 3",
   "language": "python",
   "name": "python3"
  },
  "language_info": {
   "codemirror_mode": {
    "name": "ipython",
    "version": 3
   },
   "file_extension": ".py",
   "mimetype": "text/x-python",
   "name": "python",
   "nbconvert_exporter": "python",
   "pygments_lexer": "ipython3",
   "version": "3.8.5"
  }
 },
 "nbformat": 4,
 "nbformat_minor": 4
}
