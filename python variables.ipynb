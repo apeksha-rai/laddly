{
 "cells": [
  {
   "cell_type": "code",
   "execution_count": 3,
   "metadata": {},
   "outputs": [
    {
     "name": "stdout",
     "output_type": "stream",
     "text": [
      "46\n"
     ]
    }
   ],
   "source": [
    "#a variable in programming is used to store data(values).\n",
    "a = 12\n",
    "b = 34 \n",
    "print(a+b)"
   ]
  },
  {
   "cell_type": "code",
   "execution_count": 4,
   "metadata": {},
   "outputs": [
    {
     "name": "stdout",
     "output_type": "stream",
     "text": [
      "6\n"
     ]
    }
   ],
   "source": [
    "#changing variable values\n",
    "a =12\n",
    "a = 4\n",
    "b = 2\n",
    "print(a+b)"
   ]
  },
  {
   "cell_type": "code",
   "execution_count": 1,
   "metadata": {},
   "outputs": [],
   "source": [
    "#rules for naming a varriable\n",
    "#a variable name consist of alphabet(a to z) , or (A to Z) ,digits(0 to 9 )or an underscore(_).\n",
    "#you cant start variable  name with digits.\n",
    "#use underscore if you want create a variable name having two or more words.\n",
    "#like : number , salary, first_name, number12\n",
    "#there are some reserved words that you cant use as a veriables name as they have special meaning such as: if,for,except,try or.\n",
    "\n",
    "\n"
   ]
  },
  {
   "cell_type": "code",
   "execution_count": 2,
   "metadata": {},
   "outputs": [
    {
     "name": "stdout",
     "output_type": "stream",
     "text": [
      "2.8\n"
     ]
    }
   ],
   "source": [
    "#python literals \n",
    "#literal is raw data used for representing fix value .eg\n",
    "number = 4.3\n",
    "numberr = 1.5\n",
    "print(number - numberr)"
   ]
  },
  {
   "cell_type": "code",
   "execution_count": 1,
   "metadata": {},
   "outputs": [],
   "source": [
    "#numerical literals \n",
    "#numerical literals can belong to 3 different numerical types : integer ,float and complex.\n",
    "#integers --> 1,2,45,678,-34,-3,0\n",
    "#float --> 3.4,56.234,1.52e2  = 1.52*10^2\n",
    "#complex --> 1.3j ,2+3.45j\n",
    "# numerical literals can also be represented in binary , hexadecimal,or octal system .\n",
    "# a = 0b1011 => binary\n",
    "#v = 0o367 => octal\n",
    "#d = 0x12c => hexadecimal"
   ]
  },
  {
   "cell_type": "code",
   "execution_count": 10,
   "metadata": {},
   "outputs": [
    {
     "name": "stdout",
     "output_type": "stream",
     "text": [
      "apeksaraipeacefullo\n",
      "name : apeksha rai \n",
      "add = anam,ktm\n",
      "age :20\n"
     ]
    }
   ],
   "source": [
    "#sting literals \n",
    "#it is sequence of charecter surrounded by quotes.we can use either single,double or tripalee quotes for a string\n",
    "name = (\"apeksarai\")\n",
    "another_name = ('peacefull')\n",
    "char = (\"o\")\n",
    "print(name+another_name+char)\n",
    "\n",
    "#for multiline string ,you can use triple quotes :\n",
    "curiculum_vitae = \"\"\"name : apeksha rai \n",
    "add = anam,ktm\n",
    "age :20\"\"\"\n",
    "print(curiculum_vitae)"
   ]
  },
  {
   "cell_type": "code",
   "execution_count": 15,
   "metadata": {},
   "outputs": [
    {
     "name": "stdout",
     "output_type": "stream",
     "text": [
      "2\n",
      "true\n"
     ]
    }
   ],
   "source": [
    "#boolean literals\n",
    "#there are two type of boolean literals: 'true' and 'false'.it is case sensetive.\n",
    "a = 5\n",
    "v = 3\n",
    "bol = 'true'\n",
    "print(a-v)\n",
    "print(bol)"
   ]
  },
  {
   "cell_type": "code",
   "execution_count": 16,
   "metadata": {},
   "outputs": [
    {
     "name": "stdout",
     "output_type": "stream",
     "text": [
      "hello city \n"
     ]
    }
   ],
   "source": [
    "#python comments \n",
    "#in programming , a commentes is used to describe whate is goning on inside a program.\n",
    "#comments are used for users to better undersand the code.python interpreter ignores such a code.\n",
    "#in pyhton we use hash \"#\" symbol to write a comments .\n",
    "# this is s comments\n",
    "a = \"hello city \" # a contain hello city\n",
    "print(a)"
   ]
  },
  {
   "cell_type": "code",
   "execution_count": null,
   "metadata": {},
   "outputs": [],
   "source": []
  }
 ],
 "metadata": {
  "kernelspec": {
   "display_name": "Python 3",
   "language": "python",
   "name": "python3"
  },
  "language_info": {
   "codemirror_mode": {
    "name": "ipython",
    "version": 3
   },
   "file_extension": ".py",
   "mimetype": "text/x-python",
   "name": "python",
   "nbconvert_exporter": "python",
   "pygments_lexer": "ipython3",
   "version": "3.8.5"
  }
 },
 "nbformat": 4,
 "nbformat_minor": 4
}
